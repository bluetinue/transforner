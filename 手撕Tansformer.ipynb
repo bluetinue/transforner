{
  "nbformat": 4,
  "nbformat_minor": 0,
  "metadata": {
    "colab": {
      "provenance": [],
      "authorship_tag": "ABX9TyNTzfobi8RTdI5GYU6PY/Jv",
      "include_colab_link": true
    },
    "kernelspec": {
      "name": "python3",
      "display_name": "Python 3"
    },
    "language_info": {
      "name": "python"
    }
  },
  "cells": [
    {
      "cell_type": "markdown",
      "metadata": {
        "id": "view-in-github",
        "colab_type": "text"
      },
      "source": [
        "<a href=\"https://colab.research.google.com/github/bluetinue/transforner/blob/main/%E6%89%8B%E6%92%95Tansformer.ipynb\" target=\"_parent\"><img src=\"https://colab.research.google.com/assets/colab-badge.svg\" alt=\"Open In Colab\"/></a>"
      ]
    },
    {
      "cell_type": "code",
      "source": [
        "import torch.nn as nn\n",
        "import torch\n",
        "# 数学计算工具包\n",
        "import math"
      ],
      "metadata": {
        "id": "ZoK2P_QuHjpk"
      },
      "execution_count": 2,
      "outputs": []
    },
    {
      "cell_type": "code",
      "execution_count": 11,
      "metadata": {
        "id": "B1Bt_Sno5B7B"
      },
      "outputs": [],
      "source": [
        "class Embed(nn.Module):\n",
        "  def __init__(self,vocab,embed_dim):\n",
        "    super().__init__()\n",
        "    self.vocab = vocab\n",
        "    self.embed_dim = embed_dim\n",
        "    self.lcut = nn.Embedding(self.vocab,self.embed_dim)\n",
        "\n",
        "  def forward(self,x):\n",
        "    return self.lcut(x) * math.sqrt(self.embed_dim)"
      ]
    },
    {
      "cell_type": "code",
      "source": [
        "vocab = 1000\n",
        "embed_dim = 300\n",
        "embedding = Embed(1000,300)\n",
        "x = torch.tensor([[1,2,3],[40,50,60]])\n",
        "embed = embedding(x)\n",
        "print(embed)"
      ],
      "metadata": {
        "colab": {
          "base_uri": "https://localhost:8080/"
        },
        "id": "xaA8BlLqIyYi",
        "outputId": "603d075b-22f5-4bc7-e5c6-48559b30de95"
      },
      "execution_count": 12,
      "outputs": [
        {
          "output_type": "stream",
          "name": "stdout",
          "text": [
            "tensor([[[-33.3946,  11.1621,  22.1736,  ...,  -8.1036, -25.7829, -11.9190],\n",
            "         [-19.5975, -11.7230, -15.7001,  ..., -18.0007,   5.0648,   7.5895],\n",
            "         [  7.8403, -11.3134,   1.9363,  ...,  -7.7364,  11.2784,  12.9031]],\n",
            "\n",
            "        [[ -9.6764,  33.6947,   4.4891,  ...,  -5.0713, -14.5057,  -5.6432],\n",
            "         [ -2.4094,  11.4678, -16.8669,  ...,  -7.9335,   1.0037,   4.7195],\n",
            "         [ 13.1611, -15.8078,   1.8156,  ...,  -4.0653, -65.3319, -10.6675]]],\n",
            "       grad_fn=<MulBackward0>)\n"
          ]
        }
      ]
    },
    {
      "cell_type": "code",
      "source": [],
      "metadata": {
        "id": "kWTn_H5c9ZYn"
      },
      "execution_count": null,
      "outputs": []
    }
  ]
}